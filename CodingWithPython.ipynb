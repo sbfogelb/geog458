{
 "cells": [
  {
   "cell_type": "code",
   "execution_count": 6,
   "metadata": {},
   "outputs": [],
   "source": [
    "##Task 1\n",
    "#Sean Fogelberg's Coding with Python assignment\n",
    "#[Sea Floor Habitats](A link to the Jupyter notebook I found interesting [Sea Floor Habitats by Massimo Di Stefano](https://nbviewer.jupyter.org/gist/epifanio/7598354)\n",
    "#I found this Jupyter notebook interesting because it contained raster images/data of sea floor habitats, and I am currently taking a coastal GIS class that works with similar data.\n"
   ]
  },
  {
   "cell_type": "code",
   "execution_count": 7,
   "metadata": {},
   "outputs": [],
   "source": [
    "##Task 2\n",
    "#1A\n",
    "#The package [this site](https://pythontips.com/2013/07/30/20-python-libraries-you-cant-live-without/) considers to be the \"most famous\" http library is called [Requests](http://www.python-requests.org/en/master/).\n",
    "#Requests \"allows you to send organic, grass-fed HTTP/1.1 requests, without the need for manual labor.\" This does not make much sense to me, but it sounds like something to do with making the process of connecting to HTTP websites much easier.\n",
    "#[PyGame](http://www.pygame.org/news.html) is a package that is popular for 2D game development.\n",
    "#[Pyglet](https://bitbucket.org/pyglet/pyglet/wiki/Home) is a package for 3D animation/game creation. It is the python port for the extremely popular game Minecraft.\n",
    "\n",
    "#1B\n",
    "#According to [Dataquest](https://www.dataquest.io/blog/python-vs-r/), [matplotlib](https://matplotlib.org/) is the primary plotting package that can be used like ggplot2 in R. It is also used along with [seaborn](http://seaborn.pydata.org/).\n",
    "\n",
    "#1C\n",
    "#In order to use data frames like R, we need to import [pandas](http://pandas.pydata.org/), which is a library that provides \"high-performance, easy-to-use data structures and data analysis tools\"."
   ]
  },
  {
   "cell_type": "code",
   "execution_count": 8,
   "metadata": {},
   "outputs": [],
   "source": [
    "##Task 3\n",
    "#One difference between R and Python syntax is how to call libraries/packages. In R, we use library(\"package_name\"), but in Python we **import** the packages.\n",
    "#Another difference is how R and Python output data after calling data from an imported file. R does not automatically dismiss strings, but instead outputs them as NA. Python automatically does not include strings in calling data.\n",
    "#Finally, how you can call for \"help\" between R and Python is different. In R we using \"(help)function\" while in Python you can call for help using the F1 key, or check for errors in syntax using the F2 key, based on where your pointer is.\n"
   ]
  },
  {
   "cell_type": "code",
   "execution_count": 16,
   "metadata": {},
   "outputs": [
    {
     "name": "stdout",
     "output_type": "stream",
     "text": [
      "Happy Valentine's Day\n"
     ]
    }
   ],
   "source": [
    "##Part 2, Task 4\n",
    "x = \"Happy\"\n",
    "y = \"Valentine's\"\n",
    "z = \"Day\"\n",
    "\n",
    "print x + \" \" + y + \" \" +  z"
   ]
  },
  {
   "cell_type": "code",
   "execution_count": 19,
   "metadata": {
    "scrolled": true
   },
   "outputs": [
    {
     "name": "stdout",
     "output_type": "stream",
     "text": [
      "26 Happy Valentine's Day\n"
     ]
    },
    {
     "data": {
      "text/plain": [
       "\"26 HAPPY VALENTINE'S DAY\""
      ]
     },
     "execution_count": 19,
     "metadata": {},
     "output_type": "execute_result"
    }
   ],
   "source": [
    "#Task 5\n",
    "age = 26\n",
    "\n",
    "print str(age) + \" \" + x + \" \" + y + \" \" +  z\n",
    "\n",
    "upper = str(age) + \" \" + x + \" \" + y + \" \" +  z\n",
    "\n",
    "upper.upper()"
   ]
  },
  {
   "cell_type": "code",
   "execution_count": 21,
   "metadata": {},
   "outputs": [
    {
     "data": {
      "text/plain": [
       "\"26 Happy Valentine's Day\""
      ]
     },
     "execution_count": 21,
     "metadata": {},
     "output_type": "execute_result"
    }
   ],
   "source": [
    "#Task 6\n",
    "\n",
    "vList = [str(age), x, y, z]\n",
    "\n",
    "vList_space = \" \"\n",
    "\n",
    "vList_space.join(vList)"
   ]
  },
  {
   "cell_type": "code",
   "execution_count": 23,
   "metadata": {},
   "outputs": [
    {
     "name": "stdout",
     "output_type": "stream",
     "text": [
      "26 Happy\n"
     ]
    }
   ],
   "source": [
    "#Task 7\n",
    "print upper[0:8]"
   ]
  },
  {
   "cell_type": "code",
   "execution_count": 39,
   "metadata": {},
   "outputs": [
    {
     "name": "stdout",
     "output_type": "stream",
     "text": [
      "Sad Valentine's Day\n"
     ]
    }
   ],
   "source": [
    "#Task 8\n",
    "num_strip = upper.strip(\"26 \")\n",
    "sad_day = num_strip.replace(\"Happy\", \"Sad\")\n",
    "print sad_day"
   ]
  },
  {
   "cell_type": "code",
   "execution_count": 44,
   "metadata": {},
   "outputs": [
    {
     "name": "stdout",
     "output_type": "stream",
     "text": [
      "['Sad', 'Single', \"Valentine's\", 'Day']\n"
     ]
    }
   ],
   "source": [
    "#Task 9\n",
    "split_sd = sad_day.split()\n",
    "split_sd.insert(1, \"Single\")\n",
    "print split_sd\n"
   ]
  },
  {
   "cell_type": "code",
   "execution_count": 90,
   "metadata": {},
   "outputs": [
    {
     "name": "stdout",
     "output_type": "stream",
     "text": [
      "64\n",
      "3rd Quartile\n"
     ]
    }
   ],
   "source": [
    "##Part 3, Task 10\n",
    "import random\n",
    "r100 = random.randint(1,100)\n",
    "print r100\n",
    "if r100 <= 25:\n",
    "    print \"1st Quartile\"\n",
    "elif 26 <= r100 <= 50:\n",
    "    print \"2nd Quartile\"\n",
    "elif 51 <= r100 <= 75:\n",
    "    print \"3rd Quartile\"\n",
    "elif 76 <= r100 <= 100:\n",
    "    print \"4th Quartile\""
   ]
  },
  {
   "cell_type": "code",
   "execution_count": 94,
   "metadata": {},
   "outputs": [
    {
     "name": "stdout",
     "output_type": "stream",
     "text": [
      "Warning, residents of Seattle temperatures will reach sub-zero temperatures today, please stay indoors if possible\n",
      "Warning, residents of Portland temperatures will reach sub-zero temperatures today, please stay indoors if possible\n",
      "Warning, residents of Spokane temperatures will reach sub-zero temperatures today, please stay indoors if possible\n",
      "Warning, residents of Tacoma temperatures will reach sub-zero temperatures today, please stay indoors if possible\n",
      "Warning, residents of Olympia temperatures will reach sub-zero temperatures today, please stay indoors if possible\n",
      "Warning, residents of Bellevue temperatures will reach sub-zero temperatures today, please stay indoors if possible\n"
     ]
    }
   ],
   "source": [
    "#Part 4, Task 11\n",
    "cities = [\"Seattle\", \"Portland\", \"Spokane\", \"Tacoma\", \"Olympia\", \"Bellevue\"]\n",
    "for city in cities:\n",
    "    print \"Warning, residents of\", city, \"temperatures will reach sub-zero temperatures today, please stay indoors if possible\""
   ]
  },
  {
   "cell_type": "code",
   "execution_count": 7,
   "metadata": {},
   "outputs": [
    {
     "name": "stdout",
     "output_type": "stream",
     "text": [
      "U://Users/sbfogelb/Geog_458/ Seattle .shp\n",
      "U://Users/sbfogelb/Geog_458/ Portland .shp\n",
      "U://Users/sbfogelb/Geog_458/ Spokane .shp\n",
      "U://Users/sbfogelb/Geog_458/ Tacoma .shp\n",
      "U://Users/sbfogelb/Geog_458/ Olympia .shp\n",
      "U://Users/sbfogelb/Geog_458/ Bellevue .shp\n"
     ]
    }
   ],
   "source": [
    "#Part 4, Task 12\n",
    "citylist = []\n",
    "citylist.append(\"Seattle\")\n",
    "citylist.append(\"Portland\")\n",
    "citylist.append(\"Spokane\")\n",
    "citylist.append(\"Tacoma\")\n",
    "citylist.append(\"Olympia\")\n",
    "citylist.append(\"Bellevue\")\n",
    "for filename in citylist:\n",
    "    print \"U://Users/sbfogelb/Geog_458/\",filename,\".shp\"\n"
   ]
  },
  {
   "cell_type": "code",
   "execution_count": 8,
   "metadata": {},
   "outputs": [
    {
     "name": "stdout",
     "output_type": "stream",
     "text": [
      "T-Minus 10\n",
      "T-Minus 9\n",
      "T-Minus 8\n",
      "T-Minus 7\n",
      "T-Minus 6\n",
      "T-Minus 5\n",
      "T-Minus 4\n",
      "T-Minus 3\n",
      "T-Minus 2\n",
      "T-Minus 1\n",
      "T-Minus 0\n"
     ]
    }
   ],
   "source": [
    "#Part 4, Task 13\n",
    "i = 10\n",
    "while i >= 0:\n",
    "    print \"T-Minus\", i\n",
    "    i -= 1"
   ]
  },
  {
   "cell_type": "code",
   "execution_count": 9,
   "metadata": {},
   "outputs": [
    {
     "name": "stdout",
     "output_type": "stream",
     "text": [
      "T-Minus 10\n",
      "T-Minus 9\n",
      "T-Minus 8\n",
      "T-Minus 7\n",
      "T-Minus 6\n",
      "T-Minus 5\n",
      "T-Minus 4\n",
      "T-Minus 3\n",
      "T-Minus 2\n",
      "T-Minus 1\n",
      "T-Minus 0\n"
     ]
    }
   ],
   "source": [
    "##Part 5, Task 14\n",
    "def countdown(g):\n",
    "    i = g\n",
    "    while i >= 0:\n",
    "        print \"T-Minus\", i\n",
    "        i -= 1\n",
    "\n",
    "        \n",
    "countdown(10)"
   ]
  },
  {
   "cell_type": "code",
   "execution_count": 18,
   "metadata": {},
   "outputs": [
    {
     "name": "stdout",
     "output_type": "stream",
     "text": [
      "Error\n"
     ]
    }
   ],
   "source": [
    "#Part 5, Task 15\n",
    "import random\n",
    "\n",
    "def quart_calc(h):\n",
    "    if h <= 25:\n",
    "        print \"1st Quartile\"\n",
    "    elif 26 <= h <= 50:\n",
    "        print \"2nd Quartile\"\n",
    "    elif 51 <= h <= 75:\n",
    "        print \"3rd Quartile\"\n",
    "    elif 76 <= h <= 100:\n",
    "        print \"4th Quartile\"\n",
    "    elif h < 0 or h > 100 :\n",
    "        print \"Error\"\n",
    "        \n",
    "quart_calc(1234234)"
   ]
  },
  {
   "cell_type": "code",
   "execution_count": 19,
   "metadata": {},
   "outputs": [
    {
     "ename": "SyntaxError",
     "evalue": "invalid syntax (<ipython-input-19-d870970cb45f>, line 1)",
     "output_type": "error",
     "traceback": [
      "\u001b[1;36m  File \u001b[1;32m\"<ipython-input-19-d870970cb45f>\"\u001b[1;36m, line \u001b[1;32m1\u001b[0m\n\u001b[1;33m    $ ipython locate\u001b[0m\n\u001b[1;37m    ^\u001b[0m\n\u001b[1;31mSyntaxError\u001b[0m\u001b[1;31m:\u001b[0m invalid syntax\n"
     ]
    }
   ],
   "source": []
  },
  {
   "cell_type": "code",
   "execution_count": null,
   "metadata": {},
   "outputs": [],
   "source": []
  }
 ],
 "metadata": {
  "kernelspec": {
   "display_name": "Python 2",
   "language": "python",
   "name": "python2"
  },
  "language_info": {
   "codemirror_mode": {
    "name": "ipython",
    "version": 2
   },
   "file_extension": ".py",
   "mimetype": "text/x-python",
   "name": "python",
   "nbconvert_exporter": "python",
   "pygments_lexer": "ipython2",
   "version": "2.7.15"
  }
 },
 "nbformat": 4,
 "nbformat_minor": 2
}
